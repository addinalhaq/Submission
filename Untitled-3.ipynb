{
 "cells": [
  {
   "cell_type": "markdown",
   "metadata": {},
   "source": [
    "# Proyek Analisis Data: Air Quality Dataset\n",
    "- **Nama:** Dafi' Andinil Haqqi\n",
    "- **Email:** dafiaddin@gmail.com\n",
    "- **ID Dicoding:** addinalhaq"
   ]
  },
  {
   "cell_type": "markdown",
   "metadata": {},
   "source": [
    "## Menentukan Pertanyaan Bisnis"
   ]
  },
  {
   "cell_type": "markdown",
   "metadata": {},
   "source": [
    "- Pertanyaan 1: Bagaimana tren kualitas udara pada daerah Changping?\n",
    "- Pertanyaan 2: Bagaimana korelasi antar parameter udara?\n"
   ]
  },
  {
   "cell_type": "markdown",
   "metadata": {},
   "source": [
    "## Import Semua Packages/Library yang Digunakan"
   ]
  },
  {
   "cell_type": "code",
   "execution_count": 1,
   "metadata": {},
   "outputs": [],
   "source": [
    "import numpy as np\n",
    "import pandas as pd\n",
    "import matplotlib.pyplot as plt\n",
    "import seaborn as sns\n"
   ]
  },
  {
   "cell_type": "markdown",
   "metadata": {},
   "source": [
    "## Data Wrangling"
   ]
  },
  {
   "cell_type": "markdown",
   "metadata": {},
   "source": [
    "### Gathering Data"
   ]
  },
  {
   "cell_type": "code",
   "execution_count": 46,
   "metadata": {},
   "outputs": [
    {
     "data": {
      "text/html": [
       "<div>\n",
       "<style scoped>\n",
       "    .dataframe tbody tr th:only-of-type {\n",
       "        vertical-align: middle;\n",
       "    }\n",
       "\n",
       "    .dataframe tbody tr th {\n",
       "        vertical-align: top;\n",
       "    }\n",
       "\n",
       "    .dataframe thead th {\n",
       "        text-align: right;\n",
       "    }\n",
       "</style>\n",
       "<table border=\"1\" class=\"dataframe\">\n",
       "  <thead>\n",
       "    <tr style=\"text-align: right;\">\n",
       "      <th></th>\n",
       "      <th>No</th>\n",
       "      <th>year</th>\n",
       "      <th>month</th>\n",
       "      <th>day</th>\n",
       "      <th>hour</th>\n",
       "      <th>PM2.5</th>\n",
       "      <th>PM10</th>\n",
       "      <th>SO2</th>\n",
       "      <th>NO2</th>\n",
       "      <th>CO</th>\n",
       "      <th>O3</th>\n",
       "      <th>TEMP</th>\n",
       "      <th>PRES</th>\n",
       "      <th>DEWP</th>\n",
       "      <th>RAIN</th>\n",
       "      <th>wd</th>\n",
       "      <th>WSPM</th>\n",
       "      <th>station</th>\n",
       "    </tr>\n",
       "  </thead>\n",
       "  <tbody>\n",
       "    <tr>\n",
       "      <th>0</th>\n",
       "      <td>1</td>\n",
       "      <td>2013</td>\n",
       "      <td>3</td>\n",
       "      <td>1</td>\n",
       "      <td>0</td>\n",
       "      <td>3.0</td>\n",
       "      <td>6.0</td>\n",
       "      <td>13.0</td>\n",
       "      <td>7.0</td>\n",
       "      <td>300.0</td>\n",
       "      <td>85.0</td>\n",
       "      <td>-2.3</td>\n",
       "      <td>1020.8</td>\n",
       "      <td>-19.7</td>\n",
       "      <td>0.0</td>\n",
       "      <td>E</td>\n",
       "      <td>0.5</td>\n",
       "      <td>Changping</td>\n",
       "    </tr>\n",
       "    <tr>\n",
       "      <th>1</th>\n",
       "      <td>2</td>\n",
       "      <td>2013</td>\n",
       "      <td>3</td>\n",
       "      <td>1</td>\n",
       "      <td>1</td>\n",
       "      <td>3.0</td>\n",
       "      <td>3.0</td>\n",
       "      <td>6.0</td>\n",
       "      <td>6.0</td>\n",
       "      <td>300.0</td>\n",
       "      <td>85.0</td>\n",
       "      <td>-2.5</td>\n",
       "      <td>1021.3</td>\n",
       "      <td>-19.0</td>\n",
       "      <td>0.0</td>\n",
       "      <td>ENE</td>\n",
       "      <td>0.7</td>\n",
       "      <td>Changping</td>\n",
       "    </tr>\n",
       "    <tr>\n",
       "      <th>2</th>\n",
       "      <td>3</td>\n",
       "      <td>2013</td>\n",
       "      <td>3</td>\n",
       "      <td>1</td>\n",
       "      <td>2</td>\n",
       "      <td>3.0</td>\n",
       "      <td>3.0</td>\n",
       "      <td>22.0</td>\n",
       "      <td>13.0</td>\n",
       "      <td>400.0</td>\n",
       "      <td>74.0</td>\n",
       "      <td>-3.0</td>\n",
       "      <td>1021.3</td>\n",
       "      <td>-19.9</td>\n",
       "      <td>0.0</td>\n",
       "      <td>ENE</td>\n",
       "      <td>0.2</td>\n",
       "      <td>Changping</td>\n",
       "    </tr>\n",
       "    <tr>\n",
       "      <th>3</th>\n",
       "      <td>4</td>\n",
       "      <td>2013</td>\n",
       "      <td>3</td>\n",
       "      <td>1</td>\n",
       "      <td>3</td>\n",
       "      <td>3.0</td>\n",
       "      <td>6.0</td>\n",
       "      <td>12.0</td>\n",
       "      <td>8.0</td>\n",
       "      <td>300.0</td>\n",
       "      <td>81.0</td>\n",
       "      <td>-3.6</td>\n",
       "      <td>1021.8</td>\n",
       "      <td>-19.1</td>\n",
       "      <td>0.0</td>\n",
       "      <td>NNE</td>\n",
       "      <td>1.0</td>\n",
       "      <td>Changping</td>\n",
       "    </tr>\n",
       "    <tr>\n",
       "      <th>4</th>\n",
       "      <td>5</td>\n",
       "      <td>2013</td>\n",
       "      <td>3</td>\n",
       "      <td>1</td>\n",
       "      <td>4</td>\n",
       "      <td>3.0</td>\n",
       "      <td>3.0</td>\n",
       "      <td>14.0</td>\n",
       "      <td>8.0</td>\n",
       "      <td>300.0</td>\n",
       "      <td>81.0</td>\n",
       "      <td>-3.5</td>\n",
       "      <td>1022.3</td>\n",
       "      <td>-19.4</td>\n",
       "      <td>0.0</td>\n",
       "      <td>N</td>\n",
       "      <td>2.1</td>\n",
       "      <td>Changping</td>\n",
       "    </tr>\n",
       "  </tbody>\n",
       "</table>\n",
       "</div>"
      ],
      "text/plain": [
       "   No  year  month  day  hour  PM2.5  PM10   SO2   NO2     CO    O3  TEMP  \\\n",
       "0   1  2013      3    1     0    3.0   6.0  13.0   7.0  300.0  85.0  -2.3   \n",
       "1   2  2013      3    1     1    3.0   3.0   6.0   6.0  300.0  85.0  -2.5   \n",
       "2   3  2013      3    1     2    3.0   3.0  22.0  13.0  400.0  74.0  -3.0   \n",
       "3   4  2013      3    1     3    3.0   6.0  12.0   8.0  300.0  81.0  -3.6   \n",
       "4   5  2013      3    1     4    3.0   3.0  14.0   8.0  300.0  81.0  -3.5   \n",
       "\n",
       "     PRES  DEWP  RAIN   wd  WSPM    station  \n",
       "0  1020.8 -19.7   0.0    E   0.5  Changping  \n",
       "1  1021.3 -19.0   0.0  ENE   0.7  Changping  \n",
       "2  1021.3 -19.9   0.0  ENE   0.2  Changping  \n",
       "3  1021.8 -19.1   0.0  NNE   1.0  Changping  \n",
       "4  1022.3 -19.4   0.0    N   2.1  Changping  "
      ]
     },
     "execution_count": 46,
     "metadata": {},
     "output_type": "execute_result"
    }
   ],
   "source": [
    "#Import dataset (Changping)\n",
    "df = pd.read_csv('PRSA_Data_Changping_20130301-20170228.csv')\n",
    "df.head()"
   ]
  },
  {
   "cell_type": "markdown",
   "metadata": {},
   "source": [
    "### Assessing Data"
   ]
  },
  {
   "cell_type": "code",
   "execution_count": 47,
   "metadata": {},
   "outputs": [
    {
     "name": "stdout",
     "output_type": "stream",
     "text": [
      "<class 'pandas.core.frame.DataFrame'>\n",
      "RangeIndex: 35064 entries, 0 to 35063\n",
      "Data columns (total 18 columns):\n",
      " #   Column   Non-Null Count  Dtype  \n",
      "---  ------   --------------  -----  \n",
      " 0   No       35064 non-null  int64  \n",
      " 1   year     35064 non-null  int64  \n",
      " 2   month    35064 non-null  int64  \n",
      " 3   day      35064 non-null  int64  \n",
      " 4   hour     35064 non-null  int64  \n",
      " 5   PM2.5    34290 non-null  float64\n",
      " 6   PM10     34482 non-null  float64\n",
      " 7   SO2      34436 non-null  float64\n",
      " 8   NO2      34397 non-null  float64\n",
      " 9   CO       33543 non-null  float64\n",
      " 10  O3       34460 non-null  float64\n",
      " 11  TEMP     35011 non-null  float64\n",
      " 12  PRES     35014 non-null  float64\n",
      " 13  DEWP     35011 non-null  float64\n",
      " 14  RAIN     35013 non-null  float64\n",
      " 15  wd       34924 non-null  object \n",
      " 16  WSPM     35021 non-null  float64\n",
      " 17  station  35064 non-null  object \n",
      "dtypes: float64(11), int64(5), object(2)\n",
      "memory usage: 4.8+ MB\n"
     ]
    }
   ],
   "source": [
    "# Checking dataset information\n",
    "df.info()"
   ]
  },
  {
   "cell_type": "code",
   "execution_count": 48,
   "metadata": {},
   "outputs": [
    {
     "name": "stdout",
     "output_type": "stream",
     "text": [
      "Jumlah row\t:  35064\n",
      "Jumlah column\t:  18\n"
     ]
    }
   ],
   "source": [
    "#Check jumlah row dan column\n",
    "print(\"Jumlah row\\t: \", df.shape[0])\n",
    "print(\"Jumlah column\\t: \", df.shape[1])"
   ]
  },
  {
   "cell_type": "code",
   "execution_count": 49,
   "metadata": {},
   "outputs": [
    {
     "name": "stdout",
     "output_type": "stream",
     "text": [
      "Duplicated data\t: 0\n"
     ]
    }
   ],
   "source": [
    "#Check duplikasi\n",
    "print(\"Duplicated data\\t:\",df.duplicated().sum())"
   ]
  },
  {
   "cell_type": "code",
   "execution_count": 50,
   "metadata": {},
   "outputs": [
    {
     "data": {
      "text/plain": [
       "No            0\n",
       "year          0\n",
       "month         0\n",
       "day           0\n",
       "hour          0\n",
       "PM2.5       774\n",
       "PM10        582\n",
       "SO2         628\n",
       "NO2         667\n",
       "CO         1521\n",
       "O3          604\n",
       "TEMP         53\n",
       "PRES         50\n",
       "DEWP         53\n",
       "RAIN         51\n",
       "wd          140\n",
       "WSPM         43\n",
       "station       0\n",
       "dtype: int64"
      ]
     },
     "execution_count": 50,
     "metadata": {},
     "output_type": "execute_result"
    }
   ],
   "source": [
    "#Check baris kosong(null)\n",
    "df.isna().sum()"
   ]
  },
  {
   "cell_type": "code",
   "execution_count": 51,
   "metadata": {},
   "outputs": [
    {
     "data": {
      "image/png": "[encoded data removed]",
      "text/plain": [
       "<Figure size 640x480 with 2 Axes>"
      ]
     },
     "metadata": {},
     "output_type": "display_data"
    }
   ],
   "source": [
    "#Check null dengan heatmap\n",
    "sns.heatmap(df.isna(),yticklabels=False, cmap='crest')\n",
    "plt.show()"
   ]
  },
  {
   "cell_type": "markdown",
   "metadata": {},
   "source": [
    "- Data wd bertipe object, dan data berdasarkan value riil, maka column ini akan dihapus.\n",
    "- Dalam data ini tidak terdapat null values yang dominan sehingga tidak memungkinkan menggunakan drop column (selain column wd karena bertipe object).\n",
    "- Karena data berdasarkan value riil, maka null values di-handling menggunakan metode imputation dengan mean value. "
   ]
  },
  {
   "cell_type": "code",
   "execution_count": 52,
   "metadata": {},
   "outputs": [
    {
     "data": {
      "text/html": [
       "<div>\n",
       "<style scoped>\n",
       "    .dataframe tbody tr th:only-of-type {\n",
       "        vertical-align: middle;\n",
       "    }\n",
       "\n",
       "    .dataframe tbody tr th {\n",
       "        vertical-align: top;\n",
       "    }\n",
       "\n",
       "    .dataframe thead th {\n",
       "        text-align: right;\n",
       "    }\n",
       "</style>\n",
       "<table border=\"1\" class=\"dataframe\">\n",
       "  <thead>\n",
       "    <tr style=\"text-align: right;\">\n",
       "      <th></th>\n",
       "      <th>No</th>\n",
       "      <th>year</th>\n",
       "      <th>month</th>\n",
       "      <th>day</th>\n",
       "      <th>hour</th>\n",
       "      <th>PM2.5</th>\n",
       "      <th>PM10</th>\n",
       "      <th>SO2</th>\n",
       "      <th>NO2</th>\n",
       "      <th>CO</th>\n",
       "      <th>O3</th>\n",
       "      <th>TEMP</th>\n",
       "      <th>PRES</th>\n",
       "      <th>DEWP</th>\n",
       "      <th>RAIN</th>\n",
       "      <th>WSPM</th>\n",
       "    </tr>\n",
       "  </thead>\n",
       "  <tbody>\n",
       "    <tr>\n",
       "      <th>count</th>\n",
       "      <td>35064.000000</td>\n",
       "      <td>35064.000000</td>\n",
       "      <td>35064.000000</td>\n",
       "      <td>35064.000000</td>\n",
       "      <td>35064.000000</td>\n",
       "      <td>34290.000000</td>\n",
       "      <td>34482.000000</td>\n",
       "      <td>34436.000000</td>\n",
       "      <td>34397.000000</td>\n",
       "      <td>33543.000000</td>\n",
       "      <td>34460.000000</td>\n",
       "      <td>35011.000000</td>\n",
       "      <td>35014.000000</td>\n",
       "      <td>35011.000000</td>\n",
       "      <td>35013.000000</td>\n",
       "      <td>35021.000000</td>\n",
       "    </tr>\n",
       "    <tr>\n",
       "      <th>mean</th>\n",
       "      <td>17532.500000</td>\n",
       "      <td>2014.662560</td>\n",
       "      <td>6.522930</td>\n",
       "      <td>15.729637</td>\n",
       "      <td>11.500000</td>\n",
       "      <td>71.099743</td>\n",
       "      <td>94.657871</td>\n",
       "      <td>14.958906</td>\n",
       "      <td>44.182086</td>\n",
       "      <td>1152.301345</td>\n",
       "      <td>57.940003</td>\n",
       "      <td>13.686111</td>\n",
       "      <td>1007.760278</td>\n",
       "      <td>1.505495</td>\n",
       "      <td>0.060366</td>\n",
       "      <td>1.853836</td>\n",
       "    </tr>\n",
       "    <tr>\n",
       "      <th>std</th>\n",
       "      <td>10122.249256</td>\n",
       "      <td>1.177213</td>\n",
       "      <td>3.448752</td>\n",
       "      <td>8.800218</td>\n",
       "      <td>6.922285</td>\n",
       "      <td>72.326926</td>\n",
       "      <td>83.441738</td>\n",
       "      <td>20.975331</td>\n",
       "      <td>29.519796</td>\n",
       "      <td>1103.056282</td>\n",
       "      <td>54.316674</td>\n",
       "      <td>11.365313</td>\n",
       "      <td>10.225664</td>\n",
       "      <td>13.822099</td>\n",
       "      <td>0.752899</td>\n",
       "      <td>1.309808</td>\n",
       "    </tr>\n",
       "    <tr>\n",
       "      <th>min</th>\n",
       "      <td>1.000000</td>\n",
       "      <td>2013.000000</td>\n",
       "      <td>1.000000</td>\n",
       "      <td>1.000000</td>\n",
       "      <td>0.000000</td>\n",
       "      <td>2.000000</td>\n",
       "      <td>2.000000</td>\n",
       "      <td>0.285600</td>\n",
       "      <td>1.847700</td>\n",
       "      <td>100.000000</td>\n",
       "      <td>0.214200</td>\n",
       "      <td>-16.600000</td>\n",
       "      <td>982.400000</td>\n",
       "      <td>-35.100000</td>\n",
       "      <td>0.000000</td>\n",
       "      <td>0.000000</td>\n",
       "    </tr>\n",
       "    <tr>\n",
       "      <th>25%</th>\n",
       "      <td>8766.750000</td>\n",
       "      <td>2014.000000</td>\n",
       "      <td>4.000000</td>\n",
       "      <td>8.000000</td>\n",
       "      <td>5.750000</td>\n",
       "      <td>18.000000</td>\n",
       "      <td>34.000000</td>\n",
       "      <td>2.000000</td>\n",
       "      <td>22.000000</td>\n",
       "      <td>500.000000</td>\n",
       "      <td>15.636600</td>\n",
       "      <td>3.400000</td>\n",
       "      <td>999.300000</td>\n",
       "      <td>-10.200000</td>\n",
       "      <td>0.000000</td>\n",
       "      <td>1.000000</td>\n",
       "    </tr>\n",
       "    <tr>\n",
       "      <th>50%</th>\n",
       "      <td>17532.500000</td>\n",
       "      <td>2015.000000</td>\n",
       "      <td>7.000000</td>\n",
       "      <td>16.000000</td>\n",
       "      <td>11.500000</td>\n",
       "      <td>46.000000</td>\n",
       "      <td>72.000000</td>\n",
       "      <td>7.000000</td>\n",
       "      <td>36.000000</td>\n",
       "      <td>800.000000</td>\n",
       "      <td>46.000000</td>\n",
       "      <td>14.700000</td>\n",
       "      <td>1007.400000</td>\n",
       "      <td>1.800000</td>\n",
       "      <td>0.000000</td>\n",
       "      <td>1.500000</td>\n",
       "    </tr>\n",
       "    <tr>\n",
       "      <th>75%</th>\n",
       "      <td>26298.250000</td>\n",
       "      <td>2016.000000</td>\n",
       "      <td>10.000000</td>\n",
       "      <td>23.000000</td>\n",
       "      <td>17.250000</td>\n",
       "      <td>100.000000</td>\n",
       "      <td>131.000000</td>\n",
       "      <td>18.000000</td>\n",
       "      <td>60.358200</td>\n",
       "      <td>1400.000000</td>\n",
       "      <td>80.000000</td>\n",
       "      <td>23.300000</td>\n",
       "      <td>1016.000000</td>\n",
       "      <td>14.200000</td>\n",
       "      <td>0.000000</td>\n",
       "      <td>2.300000</td>\n",
       "    </tr>\n",
       "    <tr>\n",
       "      <th>max</th>\n",
       "      <td>35064.000000</td>\n",
       "      <td>2017.000000</td>\n",
       "      <td>12.000000</td>\n",
       "      <td>31.000000</td>\n",
       "      <td>23.000000</td>\n",
       "      <td>882.000000</td>\n",
       "      <td>999.000000</td>\n",
       "      <td>310.000000</td>\n",
       "      <td>226.000000</td>\n",
       "      <td>10000.000000</td>\n",
       "      <td>429.000000</td>\n",
       "      <td>41.400000</td>\n",
       "      <td>1036.500000</td>\n",
       "      <td>27.200000</td>\n",
       "      <td>52.100000</td>\n",
       "      <td>10.000000</td>\n",
       "    </tr>\n",
       "  </tbody>\n",
       "</table>\n",
       "</div>"
      ],
      "text/plain": [
       "                 No          year         month           day          hour  \\\n",
       "count  35064.000000  35064.000000  35064.000000  35064.000000  35064.000000   \n",
       "mean   17532.500000   2014.662560      6.522930     15.729637     11.500000   \n",
       "std    10122.249256      1.177213      3.448752      8.800218      6.922285   \n",
       "min        1.000000   2013.000000      1.000000      1.000000      0.000000   \n",
       "25%     8766.750000   2014.000000      4.000000      8.000000      5.750000   \n",
       "50%    17532.500000   2015.000000      7.000000     16.000000     11.500000   \n",
       "75%    26298.250000   2016.000000     10.000000     23.000000     17.250000   \n",
       "max    35064.000000   2017.000000     12.000000     31.000000     23.000000   \n",
       "\n",
       "              PM2.5          PM10           SO2           NO2            CO  \\\n",
       "count  34290.000000  34482.000000  34436.000000  34397.000000  33543.000000   \n",
       "mean      71.099743     94.657871     14.958906     44.182086   1152.301345   \n",
       "std       72.326926     83.441738     20.975331     29.519796   1103.056282   \n",
       "min        2.000000      2.000000      0.285600      1.847700    100.000000   \n",
       "25%       18.000000     34.000000      2.000000     22.000000    500.000000   \n",
       "50%       46.000000     72.000000      7.000000     36.000000    800.000000   \n",
       "75%      100.000000    131.000000     18.000000     60.358200   1400.000000   \n",
       "max      882.000000    999.000000    310.000000    226.000000  10000.000000   \n",
       "\n",
       "                 O3          TEMP          PRES          DEWP          RAIN  \\\n",
       "count  34460.000000  35011.000000  35014.000000  35011.000000  35013.000000   \n",
       "mean      57.940003     13.686111   1007.760278      1.505495      0.060366   \n",
       "std       54.316674     11.365313     10.225664     13.822099      0.752899   \n",
       "min        0.214200    -16.600000    982.400000    -35.100000      0.000000   \n",
       "25%       15.636600      3.400000    999.300000    -10.200000      0.000000   \n",
       "50%       46.000000     14.700000   1007.400000      1.800000      0.000000   \n",
       "75%       80.000000     23.300000   1016.000000     14.200000      0.000000   \n",
       "max      429.000000     41.400000   1036.500000     27.200000     52.100000   \n",
       "\n",
       "               WSPM  \n",
       "count  35021.000000  \n",
       "mean       1.853836  \n",
       "std        1.309808  \n",
       "min        0.000000  \n",
       "25%        1.000000  \n",
       "50%        1.500000  \n",
       "75%        2.300000  \n",
       "max       10.000000  "
      ]
     },
     "execution_count": 52,
     "metadata": {},
     "output_type": "execute_result"
    }
   ],
   "source": [
    "#Check numerical properties (mean,std,min,max,IQR)\n",
    "df.describe()"
   ]
  },
  {
   "cell_type": "markdown",
   "metadata": {},
   "source": [
    "### Cleaning Data"
   ]
  },
  {
   "cell_type": "markdown",
   "metadata": {},
   "source": [
    "- Menghapus column wd dengan drop column"
   ]
  },
  {
   "cell_type": "code",
   "execution_count": 53,
   "metadata": {},
   "outputs": [],
   "source": [
    "#Drop column wd\n",
    "df.drop(columns=['wd'],inplace=True)"
   ]
  },
  {
   "cell_type": "markdown",
   "metadata": {},
   "source": [
    "- Mengatasi Null Values dengan mean tiap column"
   ]
  },
  {
   "cell_type": "code",
   "execution_count": 54,
   "metadata": {},
   "outputs": [
    {
     "data": {
      "text/plain": [
       "No            0\n",
       "year          0\n",
       "month         0\n",
       "day           0\n",
       "hour          0\n",
       "PM2.5       774\n",
       "PM10        582\n",
       "SO2         628\n",
       "NO2         667\n",
       "CO         1521\n",
       "O3          604\n",
       "TEMP         53\n",
       "PRES         50\n",
       "DEWP         53\n",
       "RAIN         51\n",
       "WSPM         43\n",
       "station       0\n",
       "dtype: int64"
      ]
     },
     "execution_count": 54,
     "metadata": {},
     "output_type": "execute_result"
    }
   ],
   "source": [
    "#Check baris kosong(null)\n",
    "df.isna().sum()"
   ]
  },
  {
   "cell_type": "code",
   "execution_count": 55,
   "metadata": {},
   "outputs": [
    {
     "data": {
      "text/plain": [
       "Index(['No', 'year', 'month', 'day', 'hour', 'PM2.5', 'PM10', 'SO2', 'NO2',\n",
       "       'CO', 'O3', 'TEMP', 'PRES', 'DEWP', 'RAIN', 'WSPM', 'station'],\n",
       "      dtype='object')"
      ]
     },
     "execution_count": 55,
     "metadata": {},
     "output_type": "execute_result"
    }
   ],
   "source": [
    "df.columns"
   ]
  },
  {
   "cell_type": "code",
   "execution_count": 56,
   "metadata": {},
   "outputs": [
    {
     "data": {
      "text/plain": [
       "PM2.5    float64\n",
       "PM10     float64\n",
       "SO2      float64\n",
       "NO2      float64\n",
       "CO       float64\n",
       "O3       float64\n",
       "TEMP     float64\n",
       "PRES     float64\n",
       "DEWP     float64\n",
       "RAIN     float64\n",
       "WSPM     float64\n",
       "dtype: object"
      ]
     },
     "execution_count": 56,
     "metadata": {},
     "output_type": "execute_result"
    }
   ],
   "source": [
    "#Mengambil datatype dengan null value\n",
    "col = ['PM2.5', 'PM10', 'SO2', 'NO2',\n",
    "       'CO', 'O3', 'TEMP', 'PRES', 'DEWP', 'RAIN', 'WSPM']\n",
    "df = df[col]\n",
    "df[col].dtypes"
   ]
  },
  {
   "cell_type": "code",
   "execution_count": 57,
   "metadata": {},
   "outputs": [
    {
     "data": {
      "text/html": [
       "<div>\n",
       "<style scoped>\n",
       "    .dataframe tbody tr th:only-of-type {\n",
       "        vertical-align: middle;\n",
       "    }\n",
       "\n",
       "    .dataframe tbody tr th {\n",
       "        vertical-align: top;\n",
       "    }\n",
       "\n",
       "    .dataframe thead th {\n",
       "        text-align: right;\n",
       "    }\n",
       "</style>\n",
       "<table border=\"1\" class=\"dataframe\">\n",
       "  <thead>\n",
       "    <tr style=\"text-align: right;\">\n",
       "      <th></th>\n",
       "      <th>PM2.5</th>\n",
       "      <th>PM10</th>\n",
       "      <th>SO2</th>\n",
       "      <th>NO2</th>\n",
       "      <th>CO</th>\n",
       "      <th>O3</th>\n",
       "      <th>TEMP</th>\n",
       "      <th>PRES</th>\n",
       "      <th>DEWP</th>\n",
       "      <th>RAIN</th>\n",
       "      <th>WSPM</th>\n",
       "    </tr>\n",
       "  </thead>\n",
       "  <tbody>\n",
       "    <tr>\n",
       "      <th>0</th>\n",
       "      <td>3.0</td>\n",
       "      <td>6.0</td>\n",
       "      <td>13.0</td>\n",
       "      <td>7.0</td>\n",
       "      <td>300.0</td>\n",
       "      <td>85.0</td>\n",
       "      <td>-2.3</td>\n",
       "      <td>1020.8</td>\n",
       "      <td>-19.7</td>\n",
       "      <td>0.0</td>\n",
       "      <td>0.5</td>\n",
       "    </tr>\n",
       "    <tr>\n",
       "      <th>1</th>\n",
       "      <td>3.0</td>\n",
       "      <td>3.0</td>\n",
       "      <td>6.0</td>\n",
       "      <td>6.0</td>\n",
       "      <td>300.0</td>\n",
       "      <td>85.0</td>\n",
       "      <td>-2.5</td>\n",
       "      <td>1021.3</td>\n",
       "      <td>-19.0</td>\n",
       "      <td>0.0</td>\n",
       "      <td>0.7</td>\n",
       "    </tr>\n",
       "    <tr>\n",
       "      <th>2</th>\n",
       "      <td>3.0</td>\n",
       "      <td>3.0</td>\n",
       "      <td>22.0</td>\n",
       "      <td>13.0</td>\n",
       "      <td>400.0</td>\n",
       "      <td>74.0</td>\n",
       "      <td>-3.0</td>\n",
       "      <td>1021.3</td>\n",
       "      <td>-19.9</td>\n",
       "      <td>0.0</td>\n",
       "      <td>0.2</td>\n",
       "    </tr>\n",
       "    <tr>\n",
       "      <th>3</th>\n",
       "      <td>3.0</td>\n",
       "      <td>6.0</td>\n",
       "      <td>12.0</td>\n",
       "      <td>8.0</td>\n",
       "      <td>300.0</td>\n",
       "      <td>81.0</td>\n",
       "      <td>-3.6</td>\n",
       "      <td>1021.8</td>\n",
       "      <td>-19.1</td>\n",
       "      <td>0.0</td>\n",
       "      <td>1.0</td>\n",
       "    </tr>\n",
       "    <tr>\n",
       "      <th>4</th>\n",
       "      <td>3.0</td>\n",
       "      <td>3.0</td>\n",
       "      <td>14.0</td>\n",
       "      <td>8.0</td>\n",
       "      <td>300.0</td>\n",
       "      <td>81.0</td>\n",
       "      <td>-3.5</td>\n",
       "      <td>1022.3</td>\n",
       "      <td>-19.4</td>\n",
       "      <td>0.0</td>\n",
       "      <td>2.1</td>\n",
       "    </tr>\n",
       "  </tbody>\n",
       "</table>\n",
       "</div>"
      ],
      "text/plain": [
       "   PM2.5  PM10   SO2   NO2     CO    O3  TEMP    PRES  DEWP  RAIN  WSPM\n",
       "0    3.0   6.0  13.0   7.0  300.0  85.0  -2.3  1020.8 -19.7   0.0   0.5\n",
       "1    3.0   3.0   6.0   6.0  300.0  85.0  -2.5  1021.3 -19.0   0.0   0.7\n",
       "2    3.0   3.0  22.0  13.0  400.0  74.0  -3.0  1021.3 -19.9   0.0   0.2\n",
       "3    3.0   6.0  12.0   8.0  300.0  81.0  -3.6  1021.8 -19.1   0.0   1.0\n",
       "4    3.0   3.0  14.0   8.0  300.0  81.0  -3.5  1022.3 -19.4   0.0   2.1"
      ]
     },
     "execution_count": 57,
     "metadata": {},
     "output_type": "execute_result"
    }
   ],
   "source": [
    "df[col].head()"
   ]
  },
  {
   "cell_type": "code",
   "execution_count": 58,
   "metadata": {},
   "outputs": [
    {
     "data": {
      "text/plain": [
       "PM2.5    0\n",
       "PM10     0\n",
       "SO2      0\n",
       "NO2      0\n",
       "CO       0\n",
       "O3       0\n",
       "TEMP     0\n",
       "PRES     0\n",
       "DEWP     0\n",
       "RAIN     0\n",
       "WSPM     0\n",
       "dtype: int64"
      ]
     },
     "execution_count": 58,
     "metadata": {},
     "output_type": "execute_result"
    }
   ],
   "source": [
    "for i in col:\n",
    "    df[i] = df[i].fillna(df[i].mean())\n",
    "    \n",
    "df.isna().sum()"
   ]
  },
  {
   "cell_type": "markdown",
   "metadata": {},
   "source": [
    "#### Maka dengan demikian null value telah berhasil diatasi"
   ]
  },
  {
   "cell_type": "markdown",
   "metadata": {},
   "source": [
    "- Mengecek outlier"
   ]
  },
  {
   "cell_type": "code",
   "execution_count": 61,
   "metadata": {},
   "outputs": [
    {
     "data": {
      "image/png": "[encoded data removed]",
      "text/plain": [
       "<Figure size 1000x1000 with 1 Axes>"
      ]
     },
     "metadata": {},
     "output_type": "display_data"
    }
   ],
   "source": [
    "#Check outlier dengan boxplot\n",
    "plt.figure(figsize=(10,10))\n",
    "sns.boxplot(data=df)\n",
    "plt.xticks(rotation='vertical')\n",
    "plt.show()"
   ]
  },
  {
   "cell_type": "code",
   "execution_count": 69,
   "metadata": {},
   "outputs": [
    {
     "name": "stdout",
     "output_type": "stream",
     "text": [
      "Diperoleh IQR: \n",
      " PM2.5     80.0\n",
      "PM10      95.0\n",
      "SO2       16.0\n",
      "NO2       38.0\n",
      "CO       900.0\n",
      "O3        63.0\n",
      "TEMP      19.9\n",
      "PRES      16.7\n",
      "DEWP      24.4\n",
      "RAIN       0.0\n",
      "WSPM       1.3\n",
      "dtype: float64\n"
     ]
    }
   ],
   "source": [
    "#Mengecek IQR \n",
    "Q1 = df.quantile(0.25)\n",
    "Q3 = df.quantile(0.75)\n",
    "\n",
    "IQR = Q3-Q1\n",
    "print(\"Diperoleh IQR:\\n\",IQR)"
   ]
  },
  {
   "cell_type": "code",
   "execution_count": 70,
   "metadata": {},
   "outputs": [
    {
     "data": {
      "text/plain": [
       "PM2.5    1807\n",
       "PM10     1405\n",
       "SO2      3136\n",
       "NO2       799\n",
       "CO       2590\n",
       "O3       1697\n",
       "TEMP        0\n",
       "PRES        0\n",
       "DEWP        0\n",
       "RAIN     1401\n",
       "WSPM     2382\n",
       "dtype: int64"
      ]
     },
     "execution_count": 70,
     "metadata": {},
     "output_type": "execute_result"
    }
   ],
   "source": [
    "#Mengatasi outlier\n",
    "#Jika value di bawah (Q1 -(1,5 * IQR)) atau di atas (Q3 - 1,5 * IQR) maka didefinisikan sebagai outlier\n",
    "((df < (Q1 - 1.5 * IQR)) | (df > (Q3 + 1.5 * IQR))).sum()"
   ]
  },
  {
   "cell_type": "markdown",
   "metadata": {},
   "source": [
    "- Dikarenakan nilai mean terpengaruh oleh outlier, maka digunakan nilai median untuk mengatasi outlier"
   ]
  },
  {
   "cell_type": "code",
   "execution_count": 71,
   "metadata": {},
   "outputs": [
    {
     "data": {
      "text/html": [
       "<div>\n",
       "<style scoped>\n",
       "    .dataframe tbody tr th:only-of-type {\n",
       "        vertical-align: middle;\n",
       "    }\n",
       "\n",
       "    .dataframe tbody tr th {\n",
       "        vertical-align: top;\n",
       "    }\n",
       "\n",
       "    .dataframe thead th {\n",
       "        text-align: right;\n",
       "    }\n",
       "</style>\n",
       "<table border=\"1\" class=\"dataframe\">\n",
       "  <thead>\n",
       "    <tr style=\"text-align: right;\">\n",
       "      <th></th>\n",
       "      <th>PM2.5</th>\n",
       "      <th>PM10</th>\n",
       "      <th>SO2</th>\n",
       "      <th>NO2</th>\n",
       "      <th>CO</th>\n",
       "      <th>O3</th>\n",
       "      <th>TEMP</th>\n",
       "      <th>PRES</th>\n",
       "      <th>DEWP</th>\n",
       "      <th>RAIN</th>\n",
       "      <th>WSPM</th>\n",
       "    </tr>\n",
       "  </thead>\n",
       "  <tbody>\n",
       "    <tr>\n",
       "      <th>0</th>\n",
       "      <td>False</td>\n",
       "      <td>False</td>\n",
       "      <td>False</td>\n",
       "      <td>False</td>\n",
       "      <td>False</td>\n",
       "      <td>False</td>\n",
       "      <td>False</td>\n",
       "      <td>False</td>\n",
       "      <td>False</td>\n",
       "      <td>False</td>\n",
       "      <td>False</td>\n",
       "    </tr>\n",
       "    <tr>\n",
       "      <th>1</th>\n",
       "      <td>False</td>\n",
       "      <td>False</td>\n",
       "      <td>False</td>\n",
       "      <td>False</td>\n",
       "      <td>False</td>\n",
       "      <td>False</td>\n",
       "      <td>False</td>\n",
       "      <td>False</td>\n",
       "      <td>False</td>\n",
       "      <td>False</td>\n",
       "      <td>False</td>\n",
       "    </tr>\n",
       "    <tr>\n",
       "      <th>2</th>\n",
       "      <td>False</td>\n",
       "      <td>False</td>\n",
       "      <td>False</td>\n",
       "      <td>False</td>\n",
       "      <td>False</td>\n",
       "      <td>False</td>\n",
       "      <td>False</td>\n",
       "      <td>False</td>\n",
       "      <td>False</td>\n",
       "      <td>False</td>\n",
       "      <td>False</td>\n",
       "    </tr>\n",
       "    <tr>\n",
       "      <th>3</th>\n",
       "      <td>False</td>\n",
       "      <td>False</td>\n",
       "      <td>False</td>\n",
       "      <td>False</td>\n",
       "      <td>False</td>\n",
       "      <td>False</td>\n",
       "      <td>False</td>\n",
       "      <td>False</td>\n",
       "      <td>False</td>\n",
       "      <td>False</td>\n",
       "      <td>False</td>\n",
       "    </tr>\n",
       "    <tr>\n",
       "      <th>4</th>\n",
       "      <td>False</td>\n",
       "      <td>False</td>\n",
       "      <td>False</td>\n",
       "      <td>False</td>\n",
       "      <td>False</td>\n",
       "      <td>False</td>\n",
       "      <td>False</td>\n",
       "      <td>False</td>\n",
       "      <td>False</td>\n",
       "      <td>False</td>\n",
       "      <td>False</td>\n",
       "    </tr>\n",
       "    <tr>\n",
       "      <th>...</th>\n",
       "      <td>...</td>\n",
       "      <td>...</td>\n",
       "      <td>...</td>\n",
       "      <td>...</td>\n",
       "      <td>...</td>\n",
       "      <td>...</td>\n",
       "      <td>...</td>\n",
       "      <td>...</td>\n",
       "      <td>...</td>\n",
       "      <td>...</td>\n",
       "      <td>...</td>\n",
       "    </tr>\n",
       "    <tr>\n",
       "      <th>35059</th>\n",
       "      <td>False</td>\n",
       "      <td>False</td>\n",
       "      <td>False</td>\n",
       "      <td>False</td>\n",
       "      <td>False</td>\n",
       "      <td>False</td>\n",
       "      <td>False</td>\n",
       "      <td>False</td>\n",
       "      <td>False</td>\n",
       "      <td>False</td>\n",
       "      <td>False</td>\n",
       "    </tr>\n",
       "    <tr>\n",
       "      <th>35060</th>\n",
       "      <td>False</td>\n",
       "      <td>False</td>\n",
       "      <td>False</td>\n",
       "      <td>False</td>\n",
       "      <td>False</td>\n",
       "      <td>False</td>\n",
       "      <td>False</td>\n",
       "      <td>False</td>\n",
       "      <td>False</td>\n",
       "      <td>False</td>\n",
       "      <td>False</td>\n",
       "    </tr>\n",
       "    <tr>\n",
       "      <th>35061</th>\n",
       "      <td>False</td>\n",
       "      <td>False</td>\n",
       "      <td>False</td>\n",
       "      <td>False</td>\n",
       "      <td>False</td>\n",
       "      <td>False</td>\n",
       "      <td>False</td>\n",
       "      <td>False</td>\n",
       "      <td>False</td>\n",
       "      <td>False</td>\n",
       "      <td>False</td>\n",
       "    </tr>\n",
       "    <tr>\n",
       "      <th>35062</th>\n",
       "      <td>False</td>\n",
       "      <td>False</td>\n",
       "      <td>False</td>\n",
       "      <td>False</td>\n",
       "      <td>False</td>\n",
       "      <td>False</td>\n",
       "      <td>False</td>\n",
       "      <td>False</td>\n",
       "      <td>False</td>\n",
       "      <td>False</td>\n",
       "      <td>False</td>\n",
       "    </tr>\n",
       "    <tr>\n",
       "      <th>35063</th>\n",
       "      <td>False</td>\n",
       "      <td>False</td>\n",
       "      <td>False</td>\n",
       "      <td>False</td>\n",
       "      <td>False</td>\n",
       "      <td>False</td>\n",
       "      <td>False</td>\n",
       "      <td>False</td>\n",
       "      <td>False</td>\n",
       "      <td>False</td>\n",
       "      <td>False</td>\n",
       "    </tr>\n",
       "  </tbody>\n",
       "</table>\n",
       "<p>35064 rows × 11 columns</p>\n",
       "</div>"
      ],
      "text/plain": [
       "       PM2.5   PM10    SO2    NO2     CO     O3   TEMP   PRES   DEWP   RAIN  \\\n",
       "0      False  False  False  False  False  False  False  False  False  False   \n",
       "1      False  False  False  False  False  False  False  False  False  False   \n",
       "2      False  False  False  False  False  False  False  False  False  False   \n",
       "3      False  False  False  False  False  False  False  False  False  False   \n",
       "4      False  False  False  False  False  False  False  False  False  False   \n",
       "...      ...    ...    ...    ...    ...    ...    ...    ...    ...    ...   \n",
       "35059  False  False  False  False  False  False  False  False  False  False   \n",
       "35060  False  False  False  False  False  False  False  False  False  False   \n",
       "35061  False  False  False  False  False  False  False  False  False  False   \n",
       "35062  False  False  False  False  False  False  False  False  False  False   \n",
       "35063  False  False  False  False  False  False  False  False  False  False   \n",
       "\n",
       "        WSPM  \n",
       "0      False  \n",
       "1      False  \n",
       "2      False  \n",
       "3      False  \n",
       "4      False  \n",
       "...      ...  \n",
       "35059  False  \n",
       "35060  False  \n",
       "35061  False  \n",
       "35062  False  \n",
       "35063  False  \n",
       "\n",
       "[35064 rows x 11 columns]"
      ]
     },
     "execution_count": 71,
     "metadata": {},
     "output_type": "execute_result"
    }
   ],
   "source": [
    "mask = (df < (Q1 - 1.5 * IQR)) | (df > (Q3 + 1.5 * IQR))\n",
    "mask"
   ]
  },
  {
   "cell_type": "code",
   "execution_count": 73,
   "metadata": {},
   "outputs": [
    {
     "data": {
      "text/plain": [
       "PM2.5    0\n",
       "PM10     0\n",
       "SO2      0\n",
       "NO2      0\n",
       "CO       0\n",
       "O3       0\n",
       "TEMP     0\n",
       "PRES     0\n",
       "DEWP     0\n",
       "RAIN     0\n",
       "WSPM     0\n",
       "dtype: int64"
      ]
     },
     "execution_count": 73,
     "metadata": {},
     "output_type": "execute_result"
    }
   ],
   "source": [
    "#Mengganti nilai outlier dengan median\n",
    "for i in mask.columns:\n",
    "    df[i].astype('float')\n",
    "    temp = df[i].median()\n",
    "    df.loc[mask[i], i] = temp\n",
    "\n",
    "((df[col] < (Q1 - 1.5 * IQR)) | (df[col] > (Q3 + 1.5 * IQR))).sum()"
   ]
  },
  {
   "cell_type": "markdown",
   "metadata": {},
   "source": [
    "#### Outlier telah diatasi dengan menggunakan nilai median"
   ]
  },
  {
   "cell_type": "code",
   "execution_count": 74,
   "metadata": {},
   "outputs": [
    {
     "data": {
      "image/png": "[encoded data removed]",
      "text/plain": [
       "<Figure size 1000x1000 with 1 Axes>"
      ]
     },
     "metadata": {},
     "output_type": "display_data"
    }
   ],
   "source": [
    "#Check ulang outlier dengan boxplot\n",
    "plt.figure(figsize=(10,10))\n",
    "sns.boxplot(data=df)\n",
    "plt.xticks(rotation='vertical')\n",
    "plt.show()"
   ]
  },
  {
   "cell_type": "markdown",
   "metadata": {},
   "source": [
    "## Exploratory Data Analysis (EDA)"
   ]
  },
  {
   "cell_type": "markdown",
   "metadata": {},
   "source": [
    "### Explore ..."
   ]
  },
  {
   "cell_type": "markdown",
   "metadata": {},
   "source": [
    "- Mencari korelasi antar parameter"
   ]
  },
  {
   "cell_type": "code",
   "execution_count": 75,
   "metadata": {},
   "outputs": [
    {
     "data": {
      "text/html": [
       "<div>\n",
       "<style scoped>\n",
       "    .dataframe tbody tr th:only-of-type {\n",
       "        vertical-align: middle;\n",
       "    }\n",
       "\n",
       "    .dataframe tbody tr th {\n",
       "        vertical-align: top;\n",
       "    }\n",
       "\n",
       "    .dataframe thead th {\n",
       "        text-align: right;\n",
       "    }\n",
       "</style>\n",
       "<table border=\"1\" class=\"dataframe\">\n",
       "  <thead>\n",
       "    <tr style=\"text-align: right;\">\n",
       "      <th></th>\n",
       "      <th>PM2.5</th>\n",
       "      <th>PM10</th>\n",
       "      <th>SO2</th>\n",
       "      <th>NO2</th>\n",
       "      <th>CO</th>\n",
       "      <th>O3</th>\n",
       "      <th>TEMP</th>\n",
       "      <th>PRES</th>\n",
       "      <th>DEWP</th>\n",
       "      <th>RAIN</th>\n",
       "      <th>WSPM</th>\n",
       "    </tr>\n",
       "  </thead>\n",
       "  <tbody>\n",
       "    <tr>\n",
       "      <th>PM2.5</th>\n",
       "      <td>1.000000</td>\n",
       "      <td>0.769969</td>\n",
       "      <td>0.246651</td>\n",
       "      <td>0.515106</td>\n",
       "      <td>0.586339</td>\n",
       "      <td>-0.142474</td>\n",
       "      <td>-0.019258</td>\n",
       "      <td>-0.060267</td>\n",
       "      <td>0.186609</td>\n",
       "      <td>NaN</td>\n",
       "      <td>-0.200380</td>\n",
       "    </tr>\n",
       "    <tr>\n",
       "      <th>PM10</th>\n",
       "      <td>0.769969</td>\n",
       "      <td>1.000000</td>\n",
       "      <td>0.274928</td>\n",
       "      <td>0.551962</td>\n",
       "      <td>0.525731</td>\n",
       "      <td>-0.116207</td>\n",
       "      <td>-0.027295</td>\n",
       "      <td>-0.059937</td>\n",
       "      <td>0.099227</td>\n",
       "      <td>NaN</td>\n",
       "      <td>-0.164127</td>\n",
       "    </tr>\n",
       "    <tr>\n",
       "      <th>SO2</th>\n",
       "      <td>0.246651</td>\n",
       "      <td>0.274928</td>\n",
       "      <td>1.000000</td>\n",
       "      <td>0.308562</td>\n",
       "      <td>0.305860</td>\n",
       "      <td>-0.160226</td>\n",
       "      <td>-0.284599</td>\n",
       "      <td>0.245497</td>\n",
       "      <td>-0.294480</td>\n",
       "      <td>NaN</td>\n",
       "      <td>-0.008078</td>\n",
       "    </tr>\n",
       "    <tr>\n",
       "      <th>NO2</th>\n",
       "      <td>0.515106</td>\n",
       "      <td>0.551962</td>\n",
       "      <td>0.308562</td>\n",
       "      <td>1.000000</td>\n",
       "      <td>0.543390</td>\n",
       "      <td>-0.502454</td>\n",
       "      <td>-0.347444</td>\n",
       "      <td>0.247922</td>\n",
       "      <td>-0.139313</td>\n",
       "      <td>NaN</td>\n",
       "      <td>-0.291056</td>\n",
       "    </tr>\n",
       "    <tr>\n",
       "      <th>CO</th>\n",
       "      <td>0.586339</td>\n",
       "      <td>0.525731</td>\n",
       "      <td>0.305860</td>\n",
       "      <td>0.543390</td>\n",
       "      <td>1.000000</td>\n",
       "      <td>-0.286916</td>\n",
       "      <td>-0.175407</td>\n",
       "      <td>0.102210</td>\n",
       "      <td>0.056504</td>\n",
       "      <td>NaN</td>\n",
       "      <td>-0.235977</td>\n",
       "    </tr>\n",
       "    <tr>\n",
       "      <th>O3</th>\n",
       "      <td>-0.142474</td>\n",
       "      <td>-0.116207</td>\n",
       "      <td>-0.160226</td>\n",
       "      <td>-0.502454</td>\n",
       "      <td>-0.286916</td>\n",
       "      <td>1.000000</td>\n",
       "      <td>0.548921</td>\n",
       "      <td>-0.436486</td>\n",
       "      <td>0.292685</td>\n",
       "      <td>NaN</td>\n",
       "      <td>0.274578</td>\n",
       "    </tr>\n",
       "    <tr>\n",
       "      <th>TEMP</th>\n",
       "      <td>-0.019258</td>\n",
       "      <td>-0.027295</td>\n",
       "      <td>-0.284599</td>\n",
       "      <td>-0.347444</td>\n",
       "      <td>-0.175407</td>\n",
       "      <td>0.548921</td>\n",
       "      <td>1.000000</td>\n",
       "      <td>-0.837764</td>\n",
       "      <td>0.823684</td>\n",
       "      <td>NaN</td>\n",
       "      <td>0.120829</td>\n",
       "    </tr>\n",
       "    <tr>\n",
       "      <th>PRES</th>\n",
       "      <td>-0.060267</td>\n",
       "      <td>-0.059937</td>\n",
       "      <td>0.245497</td>\n",
       "      <td>0.247922</td>\n",
       "      <td>0.102210</td>\n",
       "      <td>-0.436486</td>\n",
       "      <td>-0.837764</td>\n",
       "      <td>1.000000</td>\n",
       "      <td>-0.765585</td>\n",
       "      <td>NaN</td>\n",
       "      <td>0.004931</td>\n",
       "    </tr>\n",
       "    <tr>\n",
       "      <th>DEWP</th>\n",
       "      <td>0.186609</td>\n",
       "      <td>0.099227</td>\n",
       "      <td>-0.294480</td>\n",
       "      <td>-0.139313</td>\n",
       "      <td>0.056504</td>\n",
       "      <td>0.292685</td>\n",
       "      <td>0.823684</td>\n",
       "      <td>-0.765585</td>\n",
       "      <td>1.000000</td>\n",
       "      <td>NaN</td>\n",
       "      <td>-0.158035</td>\n",
       "    </tr>\n",
       "    <tr>\n",
       "      <th>RAIN</th>\n",
       "      <td>NaN</td>\n",
       "      <td>NaN</td>\n",
       "      <td>NaN</td>\n",
       "      <td>NaN</td>\n",
       "      <td>NaN</td>\n",
       "      <td>NaN</td>\n",
       "      <td>NaN</td>\n",
       "      <td>NaN</td>\n",
       "      <td>NaN</td>\n",
       "      <td>NaN</td>\n",
       "      <td>NaN</td>\n",
       "    </tr>\n",
       "    <tr>\n",
       "      <th>WSPM</th>\n",
       "      <td>-0.200380</td>\n",
       "      <td>-0.164127</td>\n",
       "      <td>-0.008078</td>\n",
       "      <td>-0.291056</td>\n",
       "      <td>-0.235977</td>\n",
       "      <td>0.274578</td>\n",
       "      <td>0.120829</td>\n",
       "      <td>0.004931</td>\n",
       "      <td>-0.158035</td>\n",
       "      <td>NaN</td>\n",
       "      <td>1.000000</td>\n",
       "    </tr>\n",
       "  </tbody>\n",
       "</table>\n",
       "</div>"
      ],
      "text/plain": [
       "          PM2.5      PM10       SO2       NO2        CO        O3      TEMP  \\\n",
       "PM2.5  1.000000  0.769969  0.246651  0.515106  0.586339 -0.142474 -0.019258   \n",
       "PM10   0.769969  1.000000  0.274928  0.551962  0.525731 -0.116207 -0.027295   \n",
       "SO2    0.246651  0.274928  1.000000  0.308562  0.305860 -0.160226 -0.284599   \n",
       "NO2    0.515106  0.551962  0.308562  1.000000  0.543390 -0.502454 -0.347444   \n",
       "CO     0.586339  0.525731  0.305860  0.543390  1.000000 -0.286916 -0.175407   \n",
       "O3    -0.142474 -0.116207 -0.160226 -0.502454 -0.286916  1.000000  0.548921   \n",
       "TEMP  -0.019258 -0.027295 -0.284599 -0.347444 -0.175407  0.548921  1.000000   \n",
       "PRES  -0.060267 -0.059937  0.245497  0.247922  0.102210 -0.436486 -0.837764   \n",
       "DEWP   0.186609  0.099227 -0.294480 -0.139313  0.056504  0.292685  0.823684   \n",
       "RAIN        NaN       NaN       NaN       NaN       NaN       NaN       NaN   \n",
       "WSPM  -0.200380 -0.164127 -0.008078 -0.291056 -0.235977  0.274578  0.120829   \n",
       "\n",
       "           PRES      DEWP  RAIN      WSPM  \n",
       "PM2.5 -0.060267  0.186609   NaN -0.200380  \n",
       "PM10  -0.059937  0.099227   NaN -0.164127  \n",
       "SO2    0.245497 -0.294480   NaN -0.008078  \n",
       "NO2    0.247922 -0.139313   NaN -0.291056  \n",
       "CO     0.102210  0.056504   NaN -0.235977  \n",
       "O3    -0.436486  0.292685   NaN  0.274578  \n",
       "TEMP  -0.837764  0.823684   NaN  0.120829  \n",
       "PRES   1.000000 -0.765585   NaN  0.004931  \n",
       "DEWP  -0.765585  1.000000   NaN -0.158035  \n",
       "RAIN        NaN       NaN   NaN       NaN  \n",
       "WSPM   0.004931 -0.158035   NaN  1.000000  "
      ]
     },
     "execution_count": 75,
     "metadata": {},
     "output_type": "execute_result"
    }
   ],
   "source": [
    "#Menggunakan korelasi Pearson\n",
    "df.corr()"
   ]
  },
  {
   "cell_type": "markdown",
   "metadata": {},
   "source": [
    "#### Berdasarkan korelasi Pearson, parameter RAIN tida memiliki korelasi karena didefinisikan sebagai Not a Number (NaN), "
   ]
  },
  {
   "cell_type": "markdown",
   "metadata": {},
   "source": [
    "## Visualization & Explanatory Analysis"
   ]
  },
  {
   "cell_type": "markdown",
   "metadata": {},
   "source": [
    "### Pertanyaan 1: Bagaimana tren kualitas udara pada daerah Changping?\n"
   ]
  },
  {
   "cell_type": "markdown",
   "metadata": {},
   "source": [
    "- Tren Monthly"
   ]
  },
  {
   "cell_type": "code",
   "execution_count": 84,
   "metadata": {},
   "outputs": [
    {
     "name": "stdout",
     "output_type": "stream",
     "text": [
      "       PM2.5  PM10   SO2   NO2     CO         O3  TEMP    PRES  DEWP  RAIN  \\\n",
      "0        3.0   6.0  13.0   7.0  300.0  85.000000  -2.3  1020.8 -19.7   0.0   \n",
      "1        3.0   3.0   6.0   6.0  300.0  85.000000  -2.5  1021.3 -19.0   0.0   \n",
      "2        3.0   3.0  22.0  13.0  400.0  74.000000  -3.0  1021.3 -19.9   0.0   \n",
      "3        3.0   6.0  12.0   8.0  300.0  81.000000  -3.6  1021.8 -19.1   0.0   \n",
      "4        3.0   3.0  14.0   8.0  300.0  81.000000  -3.5  1022.3 -19.4   0.0   \n",
      "...      ...   ...   ...   ...    ...        ...   ...     ...   ...   ...   \n",
      "35059   28.0  47.0   4.0  14.0  300.0  57.940003  11.7  1008.9 -13.3   0.0   \n",
      "35060   12.0  12.0   3.0  23.0  500.0  64.000000  10.9  1009.0 -14.0   0.0   \n",
      "35061    7.0  23.0   5.0  17.0  500.0  68.000000   9.5  1009.4 -13.0   0.0   \n",
      "35062   11.0  20.0   3.0  15.0  500.0  72.000000   7.8  1009.6 -12.6   0.0   \n",
      "35063   20.0  25.0   6.0  28.0  900.0  54.000000   7.0  1009.4 -12.2   0.0   \n",
      "\n",
      "       WSPM  \n",
      "0       0.5  \n",
      "1       0.7  \n",
      "2       0.2  \n",
      "3       1.0  \n",
      "4       2.1  \n",
      "...     ...  \n",
      "35059   1.3  \n",
      "35060   2.1  \n",
      "35061   1.5  \n",
      "35062   1.4  \n",
      "35063   1.9  \n",
      "\n",
      "[35064 rows x 11 columns]\n"
     ]
    }
   ],
   "source": []
  },
  {
   "cell_type": "markdown",
   "metadata": {},
   "source": [
    "-Tren Weekly"
   ]
  },
  {
   "cell_type": "markdown",
   "metadata": {},
   "source": [
    "-Tren Daily"
   ]
  },
  {
   "cell_type": "code",
   "execution_count": null,
   "metadata": {},
   "outputs": [],
   "source": []
  },
  {
   "cell_type": "markdown",
   "metadata": {},
   "source": [
    "### Pertanyaan 2: Bagaimana korelasi antar parameter udara?"
   ]
  },
  {
   "cell_type": "code",
   "execution_count": 79,
   "metadata": {},
   "outputs": [
    {
     "data": {
      "image/png": "[encoded data removed]",
      "text/plain": [
       "<Figure size 1500x1000 with 2 Axes>"
      ]
     },
     "metadata": {},
     "output_type": "display_data"
    }
   ],
   "source": [
    "#Membuat plot\n",
    "plt.figure(figsize=(15,10))\n",
    "\n",
    "#Setting plot\n",
    "sns.heatmap(df.corr(),cmap='GnBu',annot=True)\n",
    "\n",
    "#Menamplian plot\n",
    "plt.show()"
   ]
  },
  {
   "cell_type": "markdown",
   "metadata": {},
   "source": [
    "## Conclusion"
   ]
  },
  {
   "cell_type": "markdown",
   "metadata": {},
   "source": [
    "- Conclution pertanyaan 1\n",
    "- Conclution pertanyaan 2"
   ]
  }
 ],
 "metadata": {
  "kernelspec": {
   "display_name": "Python 3",
   "language": "python",
   "name": "python3"
  },
  "language_info": {
   "codemirror_mode": {
    "name": "ipython",
    "version": 3
   },
   "file_extension": ".py",
   "mimetype": "text/x-python",
   "name": "python",
   "nbconvert_exporter": "python",
   "pygments_lexer": "ipython3",
   "version": "3.10.5"
  }
 },
 "nbformat": 4,
 "nbformat_minor": 2
}
